{
 "cells": [
  {
   "cell_type": "markdown",
   "metadata": {},
   "source": [
    "## Lab 2- Tic Tac Toe\n",
    "\n",
    "In this lab your will build a n x n Tic Tac Toe game. As you do the exercises, make sure your solutions work for any size Tic Tac Toe game. "
   ]
  },
  {
   "cell_type": "markdown",
   "metadata": {},
   "source": [
    "*Exercise 1:* Write a function that creates an n by n matrix (of list of lists) which will represent the state of a Tie Tac Toe game. Let 0, 1, and 2 represent empty, \"X\", and \"O\", respectively.\n"
   ]
  },
  {
   "cell_type": "code",
   "execution_count": 18,
   "metadata": {},
   "outputs": [],
   "source": [
    "def create_tic_tac_toe_board(n, m):\n",
    "    return [[0] * m for _ in range(n)]\n"
   ]
  },
  {
   "cell_type": "code",
   "execution_count": 27,
   "metadata": {},
   "outputs": [
    {
     "data": {
      "text/plain": [
       "[[0, 0, 0, 0], [0, 0, 0, 0], [0, 0, 0, 0], [0, 0, 0, 0]]"
      ]
     },
     "execution_count": 27,
     "metadata": {},
     "output_type": "execute_result"
    }
   ],
   "source": [
    "create_tic_tac_toe_board(4,4)    "
   ]
  },
  {
   "cell_type": "markdown",
   "metadata": {},
   "source": [
    "*Exercise 2:* Write a function that takes 2 integers `n` and `m` as input and draws a `n` by `m` game board. For example the following is a 3x3 board:\n",
    "```\n",
    "   --- --- --- \n",
    "  |   |   |   | \n",
    "   --- --- ---  \n",
    "  |   |   |   | \n",
    "   --- --- ---  \n",
    "  |   |   |   | \n",
    "   --- --- --- \n",
    "   ```"
   ]
  },
  {
   "cell_type": "code",
   "execution_count": 16,
   "metadata": {},
   "outputs": [],
   "source": [
    "def draw_game_board(n, m):\n",
    "    for i in range(n):\n",
    "        print(\" ---\" * m)\n",
    "        print(\"|   \" * (m + 1)) \n",
    "    print(\" ---\" * m) \n"
   ]
  },
  {
   "cell_type": "code",
   "execution_count": 24,
   "metadata": {},
   "outputs": [
    {
     "name": "stdout",
     "output_type": "stream",
     "text": [
      " --- --- ---\n",
      "|   |   |   |   \n",
      " --- --- ---\n",
      "|   |   |   |   \n",
      " --- --- ---\n",
      "|   |   |   |   \n",
      " --- --- ---\n"
     ]
    }
   ],
   "source": [
    "draw_game_board(3, 3)"
   ]
  },
  {
   "cell_type": "markdown",
   "metadata": {},
   "source": [
    "*Exercise 3:* Modify exercise 2, so that it takes a matrix of the form from exercise 1 and draws a tic-tac-tie board with \"X\"s and \"O\"s.  "
   ]
  },
  {
   "cell_type": "code",
   "execution_count": 9,
   "metadata": {},
   "outputs": [],
   "source": [
    "def draw_tic_tac_toe(matrix):\n",
    "    n = len(matrix)     \n",
    "    m = len(matrix[0]) \n",
    "    \n",
    "    for i in range(n):\n",
    "        print(\" ---\" * m)\n",
    "        \n",
    "        row = \"|\"\n",
    "        for j in range(m):\n",
    "            if matrix[i][j] == 1:\n",
    "                row += \" X |\"\n",
    "            elif matrix[i][j] == 2:\n",
    "                row += \" O |\"\n",
    "            else:\n",
    "                row += \"   |\"\n",
    "        print(row)\n",
    "    \n",
    "    print(\" ---\" * m)\n",
    "\n",
    "\n"
   ]
  },
  {
   "cell_type": "code",
   "execution_count": 13,
   "metadata": {},
   "outputs": [
    {
     "name": "stdout",
     "output_type": "stream",
     "text": [
      " --- --- ---\n",
      "| O | X | X |\n",
      " --- --- ---\n",
      "|   | O |   |\n",
      " --- --- ---\n",
      "| X |   | O |\n",
      " --- --- ---\n"
     ]
    }
   ],
   "source": [
    "matrix = [\n",
    "    [2, 1, 1],\n",
    "    [0, 2, 0],\n",
    "    [1, 0, 2]\n",
    "]\n",
    "\n",
    "\n",
    "draw_tic_tac_toe(matrix)\n"
   ]
  },
  {
   "cell_type": "markdown",
   "metadata": {},
   "source": [
    "*Exercise 4:* Write a function that takes a `n` by `n` matrix representing a tic-tac-toe game, and returns -1, 0, 1, or 2 indicating the game is incomplete, the game is a draw, player 1 has won, or player 2 has one, respectively. Here are some example inputs you can use to test your code:"
   ]
  },
  {
   "cell_type": "code",
   "execution_count": 31,
   "metadata": {},
   "outputs": [],
   "source": [
    "def transpose(data):\n",
    "    return [[data[j][i] for j in range(len(data))] for i in range(len(data[0]))]\n",
    "\n",
    "def test_won_rows(data):\n",
    "    n = len(data)  # Size of the board\n",
    "\n",
    "    def all_same(lst):\n",
    "        return lst[0] != 0 and all(x == lst[0] for x in lst) #checks if value same\n",
    "\n",
    "    \n",
    "    for row in data:\n",
    "        if all_same(row):\n",
    "            return row[0]  \n",
    "\n",
    "    \n",
    "    for col in transpose(data):\n",
    "        if all_same(col):\n",
    "            return col[0]  \n",
    "\n",
    "    \n",
    "    if all_same([data[i][i] for i in range(n)]):\n",
    "        return data[0][0] \n",
    "\n",
    "    \n",
    "    if all_same([data[i][n-i-1] for i in range(n)]):\n",
    "        return data[0][n-1]  \n",
    "\n",
    "    \n",
    "    if any(0 in row for row in data):\n",
    "        return -1  # Game is incomplete\n",
    "\n",
    "\n",
    "    return 0  # It's a draw\n"
   ]
  },
  {
   "cell_type": "code",
   "execution_count": 33,
   "metadata": {},
   "outputs": [
    {
     "name": "stdout",
     "output_type": "stream",
     "text": [
      "2\n",
      "1\n",
      "1\n",
      "-1\n",
      "-1\n"
     ]
    }
   ],
   "source": [
    "winner_is_2 = [[2, 2, 0],\n",
    "\t[2, 1, 0],\n",
    "\t[2, 1, 1]]\n",
    "\n",
    "winner_is_1 = [[1, 2, 0],\n",
    "\t[2, 1, 0],\n",
    "\t[2, 1, 1]]\n",
    "\n",
    "winner_is_also_1 = [[0, 1, 0],\n",
    "\t[2, 1, 0],\n",
    "\t[2, 1, 1]]\n",
    "\n",
    "no_winner = [[1, 2, 0],\n",
    "\t[2, 1, 0],\n",
    "\t[2, 1, 2]]\n",
    "\n",
    "also_no_winner = [[1, 2, 0],\n",
    "\t[2, 1, 0],\n",
    "\t[2, 1, 0]]\n",
    "\n",
    "print(test_won_rows(winner_is_2))  \n",
    "print(test_won_rows(winner_is_1))    \n",
    "print(test_won_rows(winner_is_also_1))\n",
    "print(test_won_rows(no_winner))  \n",
    "print(test_won_rows(also_no_winner))"
   ]
  },
  {
   "cell_type": "markdown",
   "metadata": {},
   "source": [
    "*Exercise 5:* Write a function that takes a game board, player number, and `(x,y)` coordinates and places \"X\" or \"O\" in the correct location of the game board. Make sure that you only allow filling previously empty locations. Return `True` or `False` to indicate successful placement of \"X\" or \"O\"."
   ]
  },
  {
   "cell_type": "code",
   "execution_count": 1,
   "metadata": {},
   "outputs": [],
   "source": [
    "def place_marker(board, player, x, y):\n",
    "    symbol = \"X\" if player == 1 else \"O\"\n",
    "    \n",
    "    if x < 0 or x >= len(board) or y < 0 or y >= len(board[0]):\n",
    "        return False  # Invalid coordinates\n",
    "\n",
    "    if board[x][y] == 0:\n",
    "        board[x][y] = symbol  \n",
    "        return True  # Placement successful\n",
    "    else:\n",
    "        return False  # Cell is not empty, placement failed\n"
   ]
  },
  {
   "cell_type": "code",
   "execution_count": 4,
   "metadata": {},
   "outputs": [
    {
     "name": "stdout",
     "output_type": "stream",
     "text": [
      "True\n",
      "[['X', 0, 0], [0, 0, 0], [0, 0, 0]]\n",
      "True\n",
      "[['X', 0, 0], [0, 'O', 0], [0, 0, 0]]\n",
      "False\n",
      "False\n"
     ]
    }
   ],
   "source": [
    "board = [\n",
    "    [0, 0, 0],\n",
    "    [0, 0, 0],\n",
    "    [0, 0, 0]\n",
    "]\n",
    "\n",
    "print(place_marker(board, 1, 0, 0))  \n",
    "print(board)  \n",
    "\n",
    "print(place_marker(board, 2, 1, 1)) \n",
    "print(board) \n",
    "\n",
    "print(place_marker(board, 1, 1, 1))  \n",
    "\n",
    "print(place_marker(board, 2, 3, 3))  \n"
   ]
  },
  {
   "cell_type": "markdown",
   "metadata": {},
   "source": [
    "*Exercise 6:* Modify Exercise 4 to show column and row labels so that players can specify location using \"A2\" or \"C1\"."
   ]
  },
  {
   "cell_type": "code",
   "execution_count": 7,
   "metadata": {},
   "outputs": [],
   "source": [
    "def display_board(board):\n",
    "    n = len(board)\n",
    "    columns = ['A', 'B', 'C', 'D', 'E', 'F', 'G', 'H', 'I'][:n]  \n",
    "\n",
    "    print(\"  \", \" \".join(columns))\n",
    "    \n",
    "    for i in range(n):\n",
    "        row_str = f\"{i+1} \" + \" \".join(str(cell) if cell != 0 else \".\" for cell in board[i])\n",
    "        print(row_str)\n",
    "\n",
    "def convert_to_indices(location):\n",
    "    column = location[0].upper() \n",
    "    row = location[1] \n",
    "\n",
    "    col_index = ord(column) - ord('A')\n",
    "\n",
    "    row_index = int(row) - 1\n",
    "\n",
    "    return row_index, col_index\n",
    "\n",
    "def place_marker(board, player, location):\n",
    "    symbol = \"X\" if player == 1 else \"O\"\n",
    "    \n",
    "    x, y = convert_to_indices(location)\n",
    "\n",
    "    if x < 0 or x >= len(board) or y < 0 or y >= len(board[0]):\n",
    "        return False \n",
    "    \n",
    "    if board[x][y] == 0:\n",
    "        board[x][y] = symbol \n",
    "        return True  \n",
    "    else:\n",
    "        return False \n",
    "    \n"
   ]
  },
  {
   "cell_type": "code",
   "execution_count": 10,
   "metadata": {},
   "outputs": [
    {
     "name": "stdout",
     "output_type": "stream",
     "text": [
      "   A B C\n",
      "1 . . .\n",
      "2 . . .\n",
      "3 . . .\n",
      "   A B C\n",
      "1 . . .\n",
      "2 X . .\n",
      "3 . . .\n",
      "   A B C\n",
      "1 . O .\n",
      "2 X . .\n",
      "3 . . .\n",
      "Move successful: False\n"
     ]
    }
   ],
   "source": [
    "board = [\n",
    "    [0, 0, 0],\n",
    "    [0, 0, 0],\n",
    "    [0, 0, 0]\n",
    "]\n",
    "\n",
    "display_board(board)\n",
    "\n",
    "place_marker(board, 1, \"A2\")\n",
    "display_board(board)\n",
    "\n",
    "\n",
    "place_marker(board, 2, \"B1\")\n",
    "display_board(board)\n",
    "\n",
    "success = place_marker(board, 1, \"B1\")\n",
    "print(f\"Move successful: {success}\")"
   ]
  },
  {
   "cell_type": "markdown",
   "metadata": {},
   "source": [
    "*Exercise 7:* Write a function that takes a board, player number, and location specified as in exercise 6 and then calls exercise 5 to correctly modify the board.  "
   ]
  },
  {
   "cell_type": "code",
   "execution_count": 14,
   "metadata": {},
   "outputs": [],
   "source": [
    "def handle_move(board, player, location):\n",
    "    \n",
    "    success = place_marker(board, player, location)\n",
    "\n",
    "    if success:\n",
    "        print(f\"Player {player} successfully placed at {location}.\")\n",
    "        return True  # Move was successful\n",
    "    else:\n",
    "        print(f\"Player {player} failed to place at {location}.\")\n",
    "        return False  \n"
   ]
  },
  {
   "cell_type": "code",
   "execution_count": 15,
   "metadata": {},
   "outputs": [
    {
     "name": "stdout",
     "output_type": "stream",
     "text": [
      "   A B C\n",
      "1 . . .\n",
      "2 . . .\n",
      "3 . . .\n",
      "Player 1 successfully placed at A2.\n",
      "   A B C\n",
      "1 . . .\n",
      "2 X . .\n",
      "3 . . .\n",
      "Player 2 successfully placed at B1.\n",
      "   A B C\n",
      "1 . O .\n",
      "2 X . .\n",
      "3 . . .\n",
      "Player 1 failed to place at B1.\n"
     ]
    },
    {
     "data": {
      "text/plain": [
       "False"
      ]
     },
     "execution_count": 15,
     "metadata": {},
     "output_type": "execute_result"
    }
   ],
   "source": [
    "board = [\n",
    "    [0, 0, 0],\n",
    "    [0, 0, 0],\n",
    "    [0, 0, 0]\n",
    "]\n",
    "\n",
    "display_board(board)\n",
    "\n",
    "handle_move(board, 1, \"A2\")\n",
    "display_board(board)\n",
    "\n",
    "handle_move(board, 2, \"B1\")\n",
    "display_board(board)\n",
    "\n",
    "handle_move(board, 1, \"B1\") \n"
   ]
  },
  {
   "cell_type": "markdown",
   "metadata": {},
   "source": [
    "*Exercise 8:* Write a function is called with a board and player number, takes input from the player using python's `input`, and modifies the board using your function from exercise 7. Note that you should keep asking for input until you have gotten a valid input that results in a valid move."
   ]
  },
  {
   "cell_type": "code",
   "execution_count": null,
   "metadata": {},
   "outputs": [],
   "source": [
    "def player_turn(board, player):\n",
    "    \n",
    "    valid_move = False\n",
    "\n",
    "    while not valid_move:\n",
    "        location = input(f\"Player {player}, enter your move (e.g., A2, B3): \").upper()\n",
    "\n",
    "        valid_move = handle_move(board, player, location)\n",
    "\n",
    "        if not valid_move:\n",
    "            print(f\"Invalid move. Please try again, Player {player}.\")\n",
    "    \n",
    "    print(f\"Player {player} placed at {location} successfully.\")\n"
   ]
  },
  {
   "cell_type": "code",
   "execution_count": null,
   "metadata": {},
   "outputs": [],
   "source": [
    "board = [\n",
    "    [0, 0, 0],\n",
    "    [0, 0, 0],\n",
    "    [0, 0, 0]\n",
    "]\n",
    "\n",
    "display_board(board)\n",
    "\n",
    "player_turn(board, 1)\n",
    "display_board(board)\n",
    "\n",
    "player_turn(board, 2)\n",
    "display_board(board)\n"
   ]
  },
  {
   "cell_type": "markdown",
   "metadata": {},
   "source": [
    "*Exercise 9:* Use all of the previous exercises to implement a full tic-tac-toe game, where an appropriate board is drawn, 2 players are repeatedly asked for a location coordinates of where they wish to place a mark, and the game status is checked until a player wins or a draw occurs."
   ]
  },
  {
   "cell_type": "code",
   "execution_count": null,
   "metadata": {},
   "outputs": [],
   "source": [
    "def convert_to_indices(location):\n",
    "    column = location[0].upper() \n",
    "    row = location[1] \n",
    "    col_index = ord(column) - ord('A')  \n",
    "    row_index = int(row) - 1  \n",
    "    return row_index, col_index\n",
    "\n",
    "def place_marker(board, player, location):\n",
    "    symbol = \"X\" if player == 1 else \"O\"\n",
    "    x, y = convert_to_indices(location)\n",
    "\n",
    "    if x < 0 or x >= len(board) or y < 0 or y >= len(board[0]):\n",
    "        return False  # Invalid coordinates\n",
    "\n",
    "    if board[x][y] == 0:\n",
    "        board[x][y] = symbol  # Place marker\n",
    "        return True  # Success\n",
    "    else:\n",
    "        return False  # Position already taken\n",
    "\n",
    "def display_board(board):\n",
    "    n = len(board)\n",
    "    columns = ['A', 'B', 'C'][:n]  \n",
    "\n",
    "    print(\"  \", \" \".join(columns))  \n",
    "    for i in range(n):\n",
    "        row_str = f\"{i+1} \" + \" \".join(str(cell) if cell != 0 else \".\" for cell in board[i])\n",
    "        print(row_str)\n",
    "\n",
    "def handle_move(board, player, location):\n",
    "    success = place_marker(board, player, location)\n",
    "    if success:\n",
    "        return True  # Move successful\n",
    "    else:\n",
    "        return False  # Invalid move\n",
    "\n",
    "def player_turn(board, player):\n",
    "    valid_move = False\n",
    "    while not valid_move:\n",
    "        location = input(f\"Player {player}, enter your move (e.g., A2, B3): \").upper()\n",
    "        valid_move = handle_move(board, player, location)\n",
    "        if not valid_move:\n",
    "            print(f\"Invalid move. Please try again, Player {player}.\")\n",
    "\n",
    "def check_tic_tac_toe_winner(board):\n",
    "    n = len(board)\n",
    "\n",
    "    def all_same(lst):\n",
    "        return lst[0] != 0 and all(x == lst[0] for x in lst)\n",
    "\n",
    "    for row in board:\n",
    "        if all_same(row):\n",
    "            print(f\"Winning row: {row}\") \n",
    "            return row[0]  \n",
    "\n",
    "    for col in range(n):\n",
    "        if all_same([board[row][col] for row in range(n)]):\n",
    "            print(f\"Winning column: {[board[row][col] for row in range(n)]}\")  \n",
    "            return board[0][col]  \n",
    "\n",
    "    if all_same([board[i][i] for i in range(n)]):\n",
    "        print(f\"Winning diagonal: {[board[i][i] for i in range(n)]}\") \n",
    "        return board[0][0]  \n",
    "\n",
    "    if all_same([board[i][n - i - 1] for i in range(n)]):\n",
    "        print(f\"Winning anti-diagonal: {[board[i][n - i - 1] for i in range(n)]}\")  \n",
    "        return board[0][n - 1]  \n",
    "\n",
    "    if all(board[i][j] != 0 for i in range(n) for j in range(n)):\n",
    "        return 0  \n",
    "\n",
    "    return -1  \n",
    "\n",
    "def play_tic_tac_toe():\n",
    "    board = [[0, 0, 0],\n",
    "             [0, 0, 0],\n",
    "             [0, 0, 0]]\n",
    "    \n",
    "    display_board(board)  \n",
    "\n",
    "    current_player = 1\n",
    "    game_ongoing = True\n",
    "\n",
    "    while game_ongoing:\n",
    "        player_turn(board, current_player)\n",
    "        display_board(board)  \n",
    "\n",
    "        result = check_tic_tac_toe_winner(board)\n",
    "\n",
    "        if result == 1:\n",
    "            print(\"Player 1 (X) wins!\")\n",
    "            game_ongoing = False  # Stop the game\n",
    "        elif result == 2:\n",
    "            print(\"Player 2 (O) wins!\")\n",
    "            game_ongoing = False  # Stop the game\n",
    "        elif result == 0:\n",
    "            print(\"It's a draw!\")\n",
    "            game_ongoing = False  # Stop the game\n",
    "        else:\n",
    "            current_player = 2 if current_player == 1 else 1\n"
   ]
  },
  {
   "cell_type": "code",
   "execution_count": null,
   "metadata": {},
   "outputs": [],
   "source": [
    "play_tic_tac_toe()"
   ]
  },
  {
   "cell_type": "markdown",
   "metadata": {},
   "source": [
    "*Exercise 10:* Test that your game works for 5x5 Tic Tac Toe.  "
   ]
  },
  {
   "cell_type": "code",
   "execution_count": null,
   "metadata": {},
   "outputs": [
    {
     "name": "stdout",
     "output_type": "stream",
     "text": [
      "   A B C D E\n",
      "1 . . . . .\n",
      "2 . . . . .\n",
      "3 . . . . .\n",
      "4 . . . . .\n",
      "5 . . . . .\n"
     ]
    }
   ],
   "source": [
    "def convert_to_indices(location):\n",
    "    column = location[0].upper()  \n",
    "    row = location[1]  \n",
    "    col_index = ord(column) - ord('A')  \n",
    "    row_index = int(row) - 1 \n",
    "    return row_index, col_index\n",
    "\n",
    "def place_marker(board, player, location):\n",
    "    symbol = \"X\" if player == 1 else \"O\"\n",
    "    x, y = convert_to_indices(location)\n",
    "\n",
    "    if x < 0 or x >= len(board) or y < 0 or y >= len(board[0]):\n",
    "        return False  # Invalid coordinates\n",
    "\n",
    "    if board[x][y] == 0:\n",
    "        board[x][y] = symbol  # Place marker\n",
    "        return True  # Success\n",
    "    else:\n",
    "        return False  # Position already taken\n",
    "\n",
    "def display_board(board):\n",
    "    n = len(board)\n",
    "    columns = ['A', 'B', 'C', 'D', 'E'][:n] \n",
    "\n",
    "    print(\"  \", \" \".join(columns))  \n",
    "    for i in range(n):\n",
    "        row_str = f\"{i+1} \" + \" \".join(str(cell) if cell != 0 else \".\" for cell in board[i])\n",
    "        print(row_str)\n",
    "\n",
    "def handle_move(board, player, location):\n",
    "    success = place_marker(board, player, location)\n",
    "    if success:\n",
    "        return True  # Move successful\n",
    "    else:\n",
    "        return False  # Invalid move\n",
    "\n",
    "def player_turn(board, player):\n",
    "    valid_move = False\n",
    "    while not valid_move:\n",
    "        location = input(f\"Player {player}, enter your move (e.g., A2, B3): \").upper()\n",
    "        valid_move = handle_move(board, player, location)\n",
    "        if not valid_move:\n",
    "            print(f\"Invalid move. Please try again, Player {player}.\")\n",
    "\n",
    "def check_tic_tac_toe_winner(board):\n",
    "    n = len(board)\n",
    "\n",
    "    def all_same(lst):\n",
    "        return lst[0] != 0 and all(x == lst[0] for x in lst)\n",
    "\n",
    "    for row in board:\n",
    "        if all_same(row):\n",
    "            print(f\"Winning row: {row}\") \n",
    "            return row[0]  \n",
    "\n",
    "    for col in range(n):\n",
    "        if all_same([board[row][col] for row in range(n)]):\n",
    "            print(f\"Winning column: {[board[row][col] for row in range(n)]}\")  \n",
    "            return board[0][col]  \n",
    "\n",
    "    if all_same([board[i][i] for i in range(n)]):\n",
    "        print(f\"Winning diagonal: {[board[i][i] for i in range(n)]}\") \n",
    "        return board[0][0]  \n",
    "\n",
    "    if all_same([board[i][n - i - 1] for i in range(n)]):\n",
    "        print(f\"Winning anti-diagonal: {[board[i][n - i - 1] for i in range(n)]}\")  \n",
    "        return board[0][n - 1]  \n",
    "\n",
    "    if all(board[i][j] != 0 for i in range(n) for j in range(n)):\n",
    "        return 0  \n",
    "\n",
    "    return -1  \n",
    "\n",
    "def play_tic_tac_toe():\n",
    "    board = [[0, 0, 0, 0, 0],  \n",
    "             [0, 0, 0, 0, 0],\n",
    "             [0, 0, 0, 0, 0],\n",
    "             [0, 0, 0, 0, 0],\n",
    "             [0, 0, 0, 0, 0]]\n",
    "    \n",
    "    display_board(board)  \n",
    "\n",
    "    current_player = 1\n",
    "    game_ongoing = True\n",
    "\n",
    "    while game_ongoing:\n",
    "        player_turn(board, current_player)\n",
    "        display_board(board)  \n",
    "\n",
    "        result = check_tic_tac_toe_winner(board)\n",
    "\n",
    "        if result == 1:\n",
    "            print(\"Player 1 (X) wins!\")\n",
    "            game_ongoing = False  # Stop the game\n",
    "        elif result == 2:\n",
    "            print(\"Player 2 (O) wins!\")\n",
    "            game_ongoing = False  # Stop the game\n",
    "        elif result == 0:\n",
    "            print(\"It's a draw!\")\n",
    "            game_ongoing = False  # Stop the game\n",
    "        else:\n",
    "            current_player = 2 if current_player == 1 else 1\n",
    "\n",
    "\n",
    "play_tic_tac_toe()\n"
   ]
  },
  {
   "cell_type": "markdown",
   "metadata": {},
   "source": [
    "*Exercise 11:* (Advanced / Challenge) Develop a version of the game where one player is the computer. Note that you don't need to do an extensive seach for the best move. You can have the computer simply protect against loosing and otherwise try to win with straight or diagonal patterns."
   ]
  },
  {
   "cell_type": "code",
   "execution_count": null,
   "metadata": {
    "collapsed": true
   },
   "outputs": [],
   "source": [
    "# Write you solution here"
   ]
  },
  {
   "cell_type": "code",
   "execution_count": null,
   "metadata": {
    "collapsed": true
   },
   "outputs": [],
   "source": [
    "# Test your solution here"
   ]
  }
 ],
 "metadata": {
  "kernelspec": {
   "display_name": "Python 3 (ipykernel)",
   "language": "python",
   "name": "python3"
  },
  "language_info": {
   "codemirror_mode": {
    "name": "ipython",
    "version": 3
   },
   "file_extension": ".py",
   "mimetype": "text/x-python",
   "name": "python",
   "nbconvert_exporter": "python",
   "pygments_lexer": "ipython3",
   "version": "3.12.3"
  }
 },
 "nbformat": 4,
 "nbformat_minor": 2
}
