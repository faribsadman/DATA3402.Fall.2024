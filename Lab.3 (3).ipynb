{
 "cells": [
  {
   "cell_type": "markdown",
   "metadata": {},
   "source": [
    "# Lab 3\n",
    "\n",
    "In this lab we will become familiar with distributions, histograms, and functional programming. Do not use numpy or any other library for this lab.\n",
    "\n",
    "Before that, lets get setup homework submission and submit your previous lab.  \n",
    "\n",
    "## Working on the Command-line.\n",
    "\n",
    "It is important for you to learn to work on the command line and to be familiar with the Unix environment (e.g. Linux, Mac OS, or Windows Linux Subsystem). We'll go over working on the command-line in detail later in the course.\n",
    "\n",
    "You are required to submit your work in this course via GitHub. Today in class, you will setup everything on the command-line.\n",
    "\n",
    "### Command-line basics\n",
    "\n",
    "There is plenty of material online that will help you figure out how to do various tasks on the command line. Commands you may need to know today:\n",
    "\n",
    "* `ls`: lists the contents of the current directory.\n",
    "* `pwd`: prints the path of the current directory.\n",
    "* `cd <directory>`: changes your current directory to the specified directory.\n",
    "* `cd ..`: changes current directory to the previous directory. Basically steps out of the current directory to the directory containing the current directory.\n",
    "* `mkdir <directory>`: create a new directory with the specified name.\n",
    "* `rmdir <directory>`: removes the specified directory. Note it has to be empty.\n",
    "* `rm <filename>`: deletes the specified file.\n",
    "* `mv <filename 1> <filename 1>`: Moves or renames a file.\n",
    "* `cp <filename 1> <filename 2>`: copies an file. If you just provide a path to a directory, it copies the file into that directory with the same filename. If you specifiy a new filename, the copy has a new name. For example `cp File.1.txt File.2.txt` creates a copy of `File.1.txt` with the name `File.2.txt`. Meanwhile `cp File.1.txt my_directory`, where `my_directory` is a directory, creates a copy of `File.1.txt` in directory `my_directory` with the name `File.1.txt`.\n",
    "\n",
    "For reference, here are some example resources I found by googling:\n",
    "\n",
    "* Paths and Wildcards: https://www.warp.dev/terminus/linux-wildcards\n",
    "* Basic commands like copy: https://kb.iu.edu/d/afsk\n",
    "* General introduction to shell: https://github-pages.ucl.ac.uk/RCPSTrainingMaterials/HPCandHTCusingLegion/2_intro_to_shell.html\n",
    "* Manual pages: https://www.geeksforgeeks.org/linux-man-page-entries-different-types/?ref=ml_lbp\n",
    "* Chaining commands: https://www.geeksforgeeks.org/chaining-commands-in-linux/?ref=ml_lbp\n",
    "* Piping: https://www.geeksforgeeks.org/piping-in-unix-or-linux/\n",
    "* Using sed: https://www.geeksforgeeks.org/sed-command-linux-set-2/?ref=ml_lbp\n",
    "* Various Unix commands: https://www.geeksforgeeks.org/linux-commands/?ref=lbp\n",
    "* Cheat sheets:\n",
    "    * https://www.stationx.net/unix-commands-cheat-sheet/\n",
    "    * https://cheatography.com/davechild/cheat-sheets/linux-command-line/\n",
    "    * https://www.theknowledgeacademy.com/blog/unix-commands-cheat-sheet/\n",
    "    \n",
    "These aren't necessarily the best resources. Feel free to search for better ones. Also, don't forget that Unix has built-in manual pages for all of its commands. Just type `man <command>` at the command prompt. Use the space-bar to scroll through the documentation and \"q\" to exit.\n",
    "\n",
    "\n",
    "### Setup and Submission\n",
    "\n",
    "Our course repository is public. The instructions here aim to have you setup a fork of the course repository. Unfortunately because you are forking a public repo, your fork will have to be public also. \n",
    "\n",
    "You should be familiar with git from the first semester of this course. I assume that you all have github accounts and have setup things to be able to [push to github using ssh](https://docs.github.com/en/github/authenticating-to-github/connecting-to-github-with-ssh). The instuctions here lead you to:\n",
    "\n",
    "We'll overview what you will do before going through step by step instructions.\n",
    "\n",
    "1. Setup:\n",
    "    1. Fork the class repository. Some directions in [fork-a-repo](https://docs.github.com/en/github/getting-started-with-github/fork-a-repo).\n",
    "    1. Create a directory on your personal system where you will keep all course materials.\n",
    "    1. In that directory, clone your fork of the repository.\n",
    "    1. Using `git remote`, set the upstream to be the class repo, so you can pull from the class and push to your fork.\n",
    "\n",
    "1. Submission:\n",
    "    1. Copy your solutions into the appropriate directory (e.g. into `Labs/Lab.2/`) and with appropriate filename `Lab.2.solution.ipynb'.\n",
    "    1. Commit / push your solutions.\n",
    "    1. Grant access to course instructors.\n",
    "\n",
    "Below are step by step instructions with examples (including example directory naming convention). Feel free to modify things as you see fit. \n",
    "\n",
    "#### Setup\n",
    "You should only need to follow this instructions once. Here are some useful git commands:\n",
    "\n",
    "* Git help: `git help`\n",
    "* Git remote help: `git help remote`\n",
    "* Check remote status: `git remote -v`\n",
    "* Add a remote: `git remote add <stream name> <repo URL>`\n",
    "* Add a remove: `git remote remove <stream name>`\n",
    "\n",
    "Steps:\n",
    "1. In a browser, log into GitHub and navigate to the [course repository](https://github.com/UTA-DataScience/DATA3402.Fall.2024).\n",
    "1. On the top right of the page, press the fork button to create a new fork into your own GitHub account.\n",
    "1. After successful fork, you should find the browser showing your fork of the course repository. Use the green \"Code\" button to copy path to the repo into your the clipboard of your computer.\n",
    "1. Open a shell on your personal computer.\n",
    "1. If you have not done so already, create a new directory/folder where you will keep all course material to navigate to it. For example: `mkdir Data-3402` and `cd Data-3402`.\n",
    "1. Clone your fork of the repository using `git clone` followed by the path you copied into your clipboard. (copy/paste)\n",
    "1. Paste the URL to your fork in the worksheet for the TAs and instructors.\n",
    "1. Now go into the directory of your clone (`cd DATA3402.Fall.2024`).\n",
    "1. Type `git remote -v` to see the current setup for fetch and pull.\n",
    "1. Note the URL you see. This should be the same as what you used for your clone for both push and fetch.\n",
    "1. Delete the origin remote using `git remote remove origin`.\n",
    "1. Add the course repo as your remote using `git remote add origin https://github.com/UTA-DataScience/DATA3402.Fall.2024.git`.\n",
    "1. Change the push to point to your fork. This means you will need the URL to your clone we copied earlier and confirmed as the original origin. The command will look something like: `git remote set-url --push origin  https://github.com/XXXXXX/DATA3402.Fall.2024.git`, where XXXXX is your username on GitHub.\n",
    "1. Note that if you setup everything correctly, you now should be able to do `git pull` to get updates from the course repo, and do `git push` to push your commits into your own fork.\n",
    "\n",
    "### Submission\n",
    "These instructions outline how you submit files. Some useful commands:\n",
    "* To add a file to local repository: `git add <file>`.\n",
    "* To commit all changed files into local repository: `git -a -m \"A message\"`. You need to provide some comment when you commit. \n",
    "* To push the commited files from the local repository to GitHub: `git push`.\n",
    "* To get updates from GitHub: `git pull`.\n",
    "\n",
    "Steps:\n",
    "1. To submit your labs, navigate to your clone of your fork of the course repository. \n",
    "1. Use `git pull` to make sure you have the latest updates. \n",
    "1. Make sure your copy of the lab your are working on is in the appropriate place in this clone. That means if you have the file elsewhere, copy it to the same directory in your clone of your fork. \n",
    "1. Note that in order to avoid future conflicts, you should always name your solution differently than the original file in the class repo. For example if your file is still named `Lab.2.ipynb` you should rename it using the `mv` command: `mv Lab.2.ipynb Lab.2.solution.ipynb`. \n",
    "1. Add and files you wish to submit into the repo. For example: `git add Labs/Lab.2/Lab.2.solution.ipynb`\n",
    "1. Commit any changes: `git commit -a -m \"Lab 2 updates\"`\n",
    "1. Push your changes: `git push`\n",
    "1. Check on github website that your solutions have been properly submitted.\n",
    "\n",
    "Before you leave the session today, make sure your GitHub Repo is setup. If you need to work further on your lab, navigate jupyter to the copy of the lab you just submitted and work there. Once done, repeat the commit and push commands to submit your updated solution. Note that lab 2 is due by midnight Monday 9/8/2024.\n"
   ]
  },
  {
   "cell_type": "markdown",
   "metadata": {},
   "source": [
    "### Uniform Distribution\n",
    "Lets start with generating some fake random data. You can get a random number between 0 and 1 using the python random module as follow:"
   ]
  },
  {
   "cell_type": "code",
   "execution_count": 3,
   "metadata": {},
   "outputs": [
    {
     "name": "stdout",
     "output_type": "stream",
     "text": [
      "The Value of x is 0.362634498504102\n"
     ]
    }
   ],
   "source": [
    "import random\n",
    "x=random.random()\n",
    "print(\"The Value of x is\", x)"
   ]
  },
  {
   "cell_type": "markdown",
   "metadata": {},
   "source": [
    "Everytime you call random, you will get a new number.\n",
    "\n",
    "*Exercise 1:* Using random, write a function `generate_uniform(N, mymin, mymax)`, that returns a python list containing N random numbers between specified minimum and maximum value. Note that you may want to quickly work out on paper how to turn numbers between 0 and 1 to between other values. "
   ]
  },
  {
   "cell_type": "code",
   "execution_count": 4,
   "metadata": {},
   "outputs": [],
   "source": [
    "import random\n",
    "\n",
    "def generate_uniform(N, x_min, x_max):\n",
    "    out = []\n",
    "    for _ in range(N):\n",
    "        # Generate a random number between 0 and 1, then scale to the desired range\n",
    "        x = random.random()\n",
    "        y = x_min + x * (x_max - x_min)\n",
    "        out.append(y)\n",
    "    return out"
   ]
  },
  {
   "cell_type": "code",
   "execution_count": 5,
   "metadata": {},
   "outputs": [
    {
     "name": "stdout",
     "output_type": "stream",
     "text": [
      "Data Type: <class 'list'>\n",
      "Data Length: 1000\n",
      "Type of Data Contents: <class 'float'>\n",
      "Data Minimum: -9.947148850443613\n",
      "Data Maximum: 9.987967562041995\n"
     ]
    }
   ],
   "source": [
    "# Test your solution here\n",
    "data=generate_uniform(1000,-10,10)\n",
    "print (\"Data Type:\", type(data))\n",
    "print (\"Data Length:\", len(data))\n",
    "if len(data)>0: \n",
    "    print (\"Type of Data Contents:\", type(data[0]))\n",
    "    print (\"Data Minimum:\", min(data))\n",
    "    print (\"Data Maximum:\", max(data))"
   ]
  },
  {
   "cell_type": "markdown",
   "metadata": {},
   "source": [
    "*Exercise 2a:* \n",
    "Write a function that computes the mean of values in a list. Recall the equation for the mean of a random variable $\\bf{x}$ computed on a data set of $n$ values $\\{ x_i \\} = \\{x_1, x_2, ..., x_n\\}$  is ${\\bf\\bar{x}} = \\frac{1}{n} \\sum_i^n x_i$."
   ]
  },
  {
   "cell_type": "code",
   "execution_count": 6,
   "metadata": {},
   "outputs": [],
   "source": [
    "# Skeleton\n",
    "def mean(Data):\n",
    "    m=0.\n",
    "    \n",
    "    if len(Data) > 0:\n",
    "        m = sum(Data) / len(Data)  \n",
    "    \n",
    "    return m"
   ]
  },
  {
   "cell_type": "code",
   "execution_count": 7,
   "metadata": {},
   "outputs": [
    {
     "name": "stdout",
     "output_type": "stream",
     "text": [
      "Mean of Data: -0.32257377093403294\n"
     ]
    }
   ],
   "source": [
    "# Test your solution here\n",
    "print (\"Mean of Data:\", mean(data))"
   ]
  },
  {
   "cell_type": "markdown",
   "metadata": {},
   "source": [
    "*Exercise 2b:* \n",
    "Write a function that computes the variance of values in a list. Recall the equation for the variance of a random variable $\\bf{x}$ computed on a data set of $n$ values $\\{ x_i \\} = \\{x_1, x_2, ..., x_n\\}$  is ${\\bf\\langle x \\rangle} = \\frac{1}{n} \\sum_i^n (x_i - {\\bf\\bar{x}})$."
   ]
  },
  {
   "cell_type": "code",
   "execution_count": 8,
   "metadata": {},
   "outputs": [],
   "source": [
    "# Skeleton\n",
    "def variance(Data):\n",
    "    m=0.\n",
    "    \n",
    "    if len(Data) > 0:\n",
    "        \n",
    "        return sum((x - m) ** 2 for x in Data) / len(Data)\n",
    "    else:\n",
    "        return 0.0  \n",
    "    \n",
    "    return m"
   ]
  },
  {
   "cell_type": "code",
   "execution_count": 9,
   "metadata": {},
   "outputs": [
    {
     "name": "stdout",
     "output_type": "stream",
     "text": [
      "Variance of Data: 34.11630813013378\n"
     ]
    }
   ],
   "source": [
    "# Test your solution here\n",
    "print (\"Variance of Data:\", variance(data))"
   ]
  },
  {
   "cell_type": "markdown",
   "metadata": {},
   "source": [
    "## Histogramming"
   ]
  },
  {
   "cell_type": "markdown",
   "metadata": {},
   "source": [
    "*Exercise 3:* Write a function that bins the data so that you can create a histogram. An example of how to implement histogramming is the following logic:\n",
    "\n",
    "* User inputs a list of values `x` and optionally `n_bins` which defaults to 10.\n",
    "* If not supplied, find the minimum and maximum (`x_min`,`x_max`) of the values in x.\n",
    "* Determine the bin size (`bin_size`) by dividing the range of the function by the number of bins.\n",
    "* Create an empty list of zeros of size `n_bins`, call it `hist`.\n",
    "* Loop over the values in `x`\n",
    "    * Loop over the values in `hist` with index `i`:\n",
    "        * If x is between `x_min+i*bin_size` and `x_min+(i+1)*bin_size`, increment `hist[i].` \n",
    "        * For efficiency, try to use continue to goto the next bin and data point.\n",
    "* Return `hist` and the list corresponding of the bin edges (i.e. of `x_min+i*bin_size`).    "
   ]
  },
  {
   "cell_type": "code",
   "execution_count": 10,
   "metadata": {},
   "outputs": [],
   "source": [
    "# Solution\n",
    "def histogram(x,n_bins=10,x_min=None,x_max=None):\n",
    "   \n",
    "    if x_min is None:\n",
    "        x_min = min(x)\n",
    "    if x_max is None:\n",
    "        x_max = max(x)\n",
    "\n",
    "    \n",
    "    bin_size = (x_max - x_min) / n_bins\n",
    "\n",
    "    \n",
    "    hist = [0 for _ in range(n_bins)]\n",
    "\n",
    "    \n",
    "    for value in x:\n",
    "       \n",
    "        if value == x_max:\n",
    "            bin_index = n_bins - 1\n",
    "        else:\n",
    "            bin_index = int((value - x_min) / bin_size)\n",
    "        \n",
    "        \n",
    "        hist[bin_index] += 1\n",
    "\n",
    "   \n",
    "    bin_edges = [x_min + i * bin_size for i in range(n_bins + 1)]\n",
    "\n",
    "\n",
    "    return hist,bin_edges"
   ]
  },
  {
   "cell_type": "code",
   "execution_count": 11,
   "metadata": {},
   "outputs": [
    {
     "name": "stdout",
     "output_type": "stream",
     "text": [
      "[13, 12, 13, 9, 9, 11, 16, 7, 18, 10, 9, 12, 16, 7, 11, 6, 14, 9, 17, 7, 7, 17, 8, 13, 12, 9, 9, 13, 7, 11, 7, 10, 13, 7, 11, 12, 7, 9, 10, 5, 5, 13, 11, 13, 10, 4, 14, 6, 15, 12, 7, 11, 9, 6, 13, 8, 11, 6, 15, 7, 12, 10, 11, 5, 5, 12, 7, 14, 8, 5, 10, 9, 5, 9, 7, 17, 9, 9, 13, 11, 13, 10, 12, 11, 8, 16, 7, 9, 12, 7, 11, 7, 4, 12, 9, 7, 10, 16, 6, 6]\n"
     ]
    }
   ],
   "source": [
    "# Test your solution here\n",
    "h,b=histogram(data,100)\n",
    "print(h)"
   ]
  },
  {
   "cell_type": "markdown",
   "metadata": {},
   "source": [
    "*Exercise 4:* Write a function that uses the histogram function in the previous exercise to create a text-based \"graph\". For example the output could look like the following:\n",
    "```\n",
    "[  0,  1] : ######\n",
    "[  1,  2] : #####\n",
    "[  2,  3] : ######\n",
    "[  3,  4] : ####\n",
    "[  4,  5] : ####\n",
    "[  5,  6] : ######\n",
    "[  6,  7] : #####\n",
    "[  7,  8] : ######\n",
    "[  8,  9] : ####\n",
    "[  9, 10] : #####\n",
    "```\n",
    "\n",
    "Where each line corresponds to a bin and the number of `#`'s are proportional to the value of the data in the bin. "
   ]
  },
  {
   "cell_type": "code",
   "execution_count": 12,
   "metadata": {},
   "outputs": [],
   "source": [
    "# Solution\n",
    "def draw_histogram(x,n_bins,x_min=None,x_max=None,character=\"#\",max_character_per_line=20):\n",
    "    hist, bin_edges = histogram(x, n_bins, x_min, x_max)\n",
    "\n",
    "    max_count = max(hist)\n",
    "    \n",
    "    scale = max_character_per_line / max_count if max_count > 0 else 1\n",
    "\n",
    "    for i in range(n_bins):\n",
    "        num_chars = int(hist[i] * scale)\n",
    "        print(f\"[{bin_edges[i]:.2f}, {bin_edges[i+1]:.2f}) : {character * num_chars}\")\n"
   ]
  },
  {
   "cell_type": "code",
   "execution_count": 13,
   "metadata": {},
   "outputs": [
    {
     "name": "stdout",
     "output_type": "stream",
     "text": [
      "[-9.95, -8.95) : ##################\n",
      "[-8.95, -7.95) : ####################\n",
      "[-7.95, -6.96) : #################\n",
      "[-6.96, -5.96) : #################\n",
      "[-5.96, -4.96) : ##################\n",
      "[-4.96, -3.97) : ###############\n",
      "[-3.97, -2.97) : ###############\n",
      "[-2.97, -1.97) : #############\n",
      "[-1.97, -0.98) : ################\n",
      "[-0.98, 0.02) : ################\n",
      "[0.02, 1.02) : ##############\n",
      "[1.02, 2.01) : ###############\n",
      "[2.01, 3.01) : #############\n",
      "[3.01, 4.01) : ##############\n",
      "[4.01, 5.00) : ############\n",
      "[5.00, 6.00) : ###################\n",
      "[6.00, 7.00) : #################\n",
      "[7.00, 7.99) : ################\n",
      "[7.99, 8.99) : #############\n",
      "[8.99, 9.99) : ##############\n"
     ]
    }
   ],
   "source": [
    "draw_histogram(data, 20)"
   ]
  },
  {
   "cell_type": "markdown",
   "metadata": {},
   "source": [
    "## Functional Programming\n",
    "\n",
    "*Exercise 5:* Write a function the applies a booling function (that returns true/false) to every element in data, and return a list of indices of elements where the result was true. Use this function to find the indices of entries greater than 0.5. "
   ]
  },
  {
   "cell_type": "code",
   "execution_count": 14,
   "metadata": {},
   "outputs": [],
   "source": [
    "def where(mylist,myfunc):\n",
    "    out= []\n",
    "    \n",
    "    for index, value in enumerate(mylist):\n",
    "        if myfunc(value): \n",
    "            out.append(index)  \n",
    "    return out\n"
   ]
  },
  {
   "cell_type": "code",
   "execution_count": 15,
   "metadata": {},
   "outputs": [
    {
     "name": "stdout",
     "output_type": "stream",
     "text": [
      "Indices of elements greater than 0.5: [5, 7, 10, 11, 13, 18, 19, 20, 23, 24, 25, 31, 35, 37, 38, 40, 48, 53, 60, 61, 63, 65, 68, 70, 71, 72, 74, 75, 76, 79, 80, 81, 84, 88, 93, 94, 95, 98, 99, 100, 101, 103, 104, 106, 108, 109, 113, 114, 115, 118, 119, 122, 124, 125, 126, 127, 129, 131, 133, 134, 135, 136, 139, 140, 141, 143, 144, 148, 151, 153, 156, 165, 168, 170, 172, 174, 175, 178, 182, 184, 185, 187, 189, 191, 192, 193, 197, 198, 205, 206, 208, 209, 210, 211, 212, 215, 216, 219, 221, 223, 224, 226, 231, 232, 233, 236, 237, 238, 239, 242, 243, 247, 251, 253, 255, 256, 259, 260, 263, 264, 265, 270, 272, 273, 275, 277, 279, 280, 281, 284, 285, 287, 289, 292, 296, 298, 299, 301, 302, 307, 308, 310, 311, 312, 313, 315, 320, 322, 325, 327, 328, 331, 332, 333, 336, 338, 346, 347, 349, 351, 352, 358, 359, 360, 361, 363, 365, 368, 372, 373, 376, 378, 380, 383, 385, 387, 388, 390, 391, 394, 398, 403, 404, 405, 407, 408, 411, 413, 414, 418, 420, 425, 431, 432, 434, 436, 437, 438, 441, 442, 445, 448, 449, 450, 453, 456, 463, 465, 467, 468, 469, 470, 472, 475, 476, 478, 479, 480, 482, 485, 494, 496, 498, 499, 500, 501, 503, 504, 505, 510, 511, 512, 513, 514, 520, 521, 526, 530, 531, 532, 533, 539, 540, 541, 542, 545, 547, 552, 555, 558, 563, 565, 570, 573, 574, 576, 579, 580, 588, 589, 593, 597, 598, 599, 602, 604, 605, 608, 609, 611, 612, 613, 615, 617, 618, 624, 629, 631, 632, 634, 635, 637, 640, 641, 643, 645, 646, 647, 652, 654, 655, 656, 657, 658, 661, 666, 668, 669, 670, 671, 677, 680, 681, 682, 683, 684, 686, 688, 689, 691, 692, 695, 697, 700, 702, 703, 705, 707, 708, 710, 711, 714, 715, 716, 720, 721, 723, 724, 726, 728, 729, 731, 735, 738, 741, 742, 743, 745, 751, 752, 754, 755, 756, 759, 760, 763, 764, 767, 768, 770, 774, 775, 776, 780, 781, 782, 784, 787, 791, 792, 793, 795, 796, 797, 798, 799, 805, 809, 810, 811, 812, 814, 815, 819, 820, 822, 823, 825, 830, 832, 835, 841, 842, 843, 845, 851, 853, 854, 855, 857, 858, 860, 861, 862, 863, 864, 870, 871, 873, 874, 878, 879, 882, 883, 887, 888, 891, 893, 896, 899, 905, 907, 908, 910, 913, 914, 915, 916, 917, 921, 922, 923, 925, 926, 927, 930, 933, 934, 938, 940, 945, 946, 949, 951, 954, 955, 960, 961, 962, 964, 968, 970, 973, 977, 980, 981, 984, 985, 990, 996, 997, 999]\n"
     ]
    }
   ],
   "source": [
    "\n",
    "def is_greater_than_0_5(x):\n",
    "    return x > 0.5\n",
    "\n",
    "indices = where(data, is_greater_than_0_5)\n",
    "print(\"Indices of elements greater than 0.5:\", indices)\n"
   ]
  },
  {
   "cell_type": "markdown",
   "metadata": {},
   "source": [
    "*Exercise 6:* The `inrange(mymin,mymax)` function below returns a function that tests if it's input is between the specified values. Write corresponding functions that test:\n",
    "* Even\n",
    "* Odd\n",
    "* Greater than\n",
    "* Less than\n",
    "* Equal\n",
    "* Divisible by"
   ]
  },
  {
   "cell_type": "code",
   "execution_count": 16,
   "metadata": {},
   "outputs": [
    {
     "name": "stdout",
     "output_type": "stream",
     "text": [
      "True\n",
      "False\n",
      "True\n",
      "False\n"
     ]
    }
   ],
   "source": [
    "def in_range(mymin, mymax):\n",
    "    def testrange(x):\n",
    "        return mymin <= x < mymax  # Corrected logical comparison\n",
    "    return testrange\n",
    "# Example functions for different ranges\n",
    "F1 = in_range(0, 10)\n",
    "F2 = in_range(10, 20)\n",
    "\n",
    "print(F1(5))  \n",
    "print(F1(15))  \n",
    "print(F2(15)) \n",
    "print(F2(25))  "
   ]
  },
  {
   "cell_type": "code",
   "execution_count": 17,
   "metadata": {},
   "outputs": [],
   "source": [
    "def in_range(mymin, mymax):\n",
    "    def testrange(x):\n",
    "        return x < mymax and x >= mymin\n",
    "    return testrange\n",
    "\n",
    "def is_even(x):\n",
    "    return x % 2 == 0\n",
    "\n",
    "def is_odd(x):\n",
    "    return x % 2 != 0\n",
    "\n",
    "def greater_than(threshold):\n",
    "    return lambda x: x > threshold\n",
    "\n",
    "def less_than(threshold):\n",
    "    return lambda x: x < threshold\n",
    "\n",
    "def is_equal_to(value):\n",
    "    return lambda x: x == value\n",
    "\n",
    "def divisible_by(divisor):\n",
    "    return lambda x: x % divisor == 0\n",
    "\n",
    "def where(mylist, myfunc):\n",
    "    out = []\n",
    "    for index, value in enumerate(mylist):\n",
    "        if myfunc(value):  \n",
    "            out.append(index)  \n",
    "    return out"
   ]
  },
  {
   "cell_type": "code",
   "execution_count": 18,
   "metadata": {},
   "outputs": [
    {
     "name": "stdout",
     "output_type": "stream",
     "text": [
      "True True False False False\n",
      "False False True True False\n",
      "Number of Entries passing F1: 4\n",
      "Number of Entries passing F2: 3\n"
     ]
    }
   ],
   "source": [
    "data = [1, 5, 7, 9, 11, 15, 18, 22, 25]  \n",
    "\n",
    "F1 = in_range(0, 10)  \n",
    "F2 = in_range(10, 20)  \n",
    "\n",
    "\n",
    "print(F1(0), F1(1), F1(10), F1(15), F1(20)) \n",
    "print(F2(0), F2(1), F2(10), F2(15), F2(20)) \n",
    "\n",
    "\n",
    "print(\"Number of Entries passing F1:\", len(where(data, F1)))  \n",
    "print(\"Number of Entries passing F2:\", len(where(data, F2)))  \n"
   ]
  },
  {
   "cell_type": "markdown",
   "metadata": {},
   "source": [
    "*Exercise 7:* Repeat the previous exercise using `lambda` and the built-in python functions sum and map instead of your solution above. "
   ]
  },
  {
   "cell_type": "code",
   "execution_count": 19,
   "metadata": {},
   "outputs": [
    {
     "name": "stdout",
     "output_type": "stream",
     "text": [
      "Number of Entries passing F1: 4\n",
      "Number of Entries passing F2: 3\n",
      "Indices of Entries passing F1: [0, 1, 2, 3]\n",
      "Indices of Entries passing F2: [4, 5, 6]\n"
     ]
    }
   ],
   "source": [
    "data = [1, 5, 7, 9, 11, 15, 18, 22, 25]\n",
    "\n",
    "F1 = lambda x: 0 <= x < 10  \n",
    "F2 = lambda x: 10 <= x < 20  \n",
    "\n",
    "result_F1 = list(map(F1, data))\n",
    "result_F2 = list(map(F2, data))\n",
    "\n",
    "print(\"Number of Entries passing F1:\", sum(result_F1))  \n",
    "print(\"Number of Entries passing F2:\", sum(result_F2))\n",
    "\n",
    "indices_F1 = [index for index, passed in enumerate(result_F1) if passed]\n",
    "indices_F2 = [index for index, passed in enumerate(result_F2) if passed]\n",
    "\n",
    "print(\"Indices of Entries passing F1:\", indices_F1)\n",
    "print(\"Indices of Entries passing F2:\", indices_F2)\n"
   ]
  },
  {
   "cell_type": "markdown",
   "metadata": {},
   "source": [
    "## Monte Carlo\n",
    "\n",
    "*Exercise 7:* Write a \"generator\" function called `generate_function(func,x_min,x_max,N)`, that instead of generating a flat distribution, generates a distribution with functional form coded in `func`. Note that `func` will always be > 0.  \n",
    "\n",
    "Use the test function below and your histogramming functions above to demonstrate that your generator is working properly.\n",
    "\n",
    "Hint: A simple, but slow, solution is to a draw random number `test_x` within the specified range and another number `p` between the `min` and `max` of the function (which you will have to determine). If `p<=function(test_x)`, then place `test_x` on the output. If not, repeat the process, drawing two new numbers. Repeat until you have the specified number of generated numbers, `N`. For this problem, it's OK to determine the `min` and `max` by numerically sampling the function.  "
   ]
  },
  {
   "cell_type": "code",
   "execution_count": 20,
   "metadata": {},
   "outputs": [],
   "source": [
    "def generate_function(func,x_min,x_max,N=1000):\n",
    "    out = list()\n",
    "\n",
    "    grid_points = 1000\n",
    "    xs = [x_min + (x_max - x_min) * i / grid_points for i in range(grid_points)]\n",
    "    func_values = [func(x) for x in xs]\n",
    "    p_max = max(func_values)  \n",
    "\n",
    "    while len(out) < N:\n",
    "        test_x = random.uniform(x_min, x_max)\n",
    "        p = random.uniform(0, p_max)\n",
    "        if p <= func(test_x):\n",
    "            out.append(test_x)\n",
    "\n",
    "    return out"
   ]
  },
  {
   "cell_type": "code",
   "execution_count": 21,
   "metadata": {},
   "outputs": [
    {
     "name": "stdout",
     "output_type": "stream",
     "text": [
      "[2.181478922556983, 4.578308365205363, -3.225216662181211, 3.9472740141786815, 2.79516388813615, -4.442371461551814, 2.5863391577351313, 3.3137781251398586, 4.961204937291443, 4.506795642612598]\n"
     ]
    }
   ],
   "source": [
    "# A test function\n",
    "def test_func(x, a=1, b=1):\n",
    "    return abs(a * x + b)\n",
    "\n",
    "\n",
    "generated_data = generate_function(lambda x: test_func(x, a=2, b=1), -5, 5, N=1000)\n",
    "\n",
    "print(generated_data[:10])\n",
    "\n",
    "       \n",
    "    "
   ]
  },
  {
   "cell_type": "markdown",
   "metadata": {},
   "source": [
    "*Exercise 8:* Use your function to generate 1000 numbers that are normal distributed, using the `gaussian` function below. Confirm the mean and variance of the data is close to the mean and variance you specify when building the Gaussian. Histogram the data. "
   ]
  },
  {
   "cell_type": "code",
   "execution_count": 22,
   "metadata": {},
   "outputs": [
    {
     "name": "stdout",
     "output_type": "stream",
     "text": [
      "Generated Data Mean: 0.0020028278268772455\n",
      "Generated Data Variance: 0.9716870021510933\n"
     ]
    },
    {
     "data": {
      "image/png": "[encoded data removed]",
      "text/plain": [
       "<Figure size 640x480 with 1 Axes>"
      ]
     },
     "metadata": {},
     "output_type": "display_data"
    }
   ],
   "source": [
    "import math\n",
    "import random\n",
    "import matplotlib.pyplot as plt\n",
    "\n",
    "def generate_function(func, x_min, x_max, N=1000):\n",
    "    out = list()\n",
    "\n",
    "    grid_points = 1000\n",
    "    xs = [x_min + (x_max - x_min) * i / grid_points for i in range(grid_points)]\n",
    "    func_values = [func(x) for x in xs]\n",
    "    p_max = max(func_values)  \n",
    "\n",
    "    while len(out) < N:\n",
    "        test_x = random.uniform(x_min, x_max)\n",
    "        p = random.uniform(0, p_max)\n",
    "        if p <= func(test_x):\n",
    "            out.append(test_x)\n",
    "\n",
    "    return out\n",
    "\n",
    "def gaussian(mean, sigma):\n",
    "    def f(x):\n",
    "        return math.exp(-((x - mean) ** 2) / (2 * sigma ** 2)) / (math.sqrt(2 * math.pi) * sigma)\n",
    "    return f\n",
    "\n",
    "g1 = gaussian(0, 1)  \n",
    "g2 = gaussian(10, 3) \n",
    "\n",
    "generated_data = generate_function(g1, -5, 5, N=1000)\n",
    "\n",
    "mean_data = sum(generated_data) / len(generated_data)\n",
    "variance_data = sum((x - mean_data) ** 2 for x in generated_data) / len(generated_data)\n",
    "\n",
    "print(f\"Generated Data Mean: {mean_data}\")\n",
    "print(f\"Generated Data Variance: {variance_data}\")\n",
    "\n",
    "plt.hist(generated_data, bins=30, edgecolor='black')\n",
    "plt.title('Histogram of Generated Gaussian Data')\n",
    "plt.xlabel('Value')\n",
    "plt.ylabel('Frequency')\n",
    "plt.show()\n"
   ]
  },
  {
   "cell_type": "markdown",
   "metadata": {},
   "source": [
    "*Exercise 9:* Combine your `generate_function`, `where`, and `in_range` functions above to create an integrate function. Use your integrate function to show that approximately 68% of Normal distribution is within one variance."
   ]
  },
  {
   "cell_type": "code",
   "execution_count": 23,
   "metadata": {},
   "outputs": [
    {
     "name": "stdout",
     "output_type": "stream",
     "text": [
      "Proportion within one standard deviation: 0.6700\n"
     ]
    }
   ],
   "source": [
    "def integrate(func, x_min, x_max, n_points=1000):\n",
    "    \n",
    "    return integral\n",
    "import math\n",
    "import random\n",
    "\n",
    "def generate_function(func, x_min, x_max, N=1000):\n",
    "    out = list()\n",
    "\n",
    "   \n",
    "    grid_points = 1000\n",
    "    xs = [x_min + (x_max - x_min) * i / grid_points for i in range(grid_points)]\n",
    "    func_values = [func(x) for x in xs]\n",
    "    p_max = max(func_values)  \n",
    "\n",
    "    while len(out) < N:\n",
    "        test_x = random.uniform(x_min, x_max)\n",
    "        p = random.uniform(0, p_max)\n",
    "        if p <= func(test_x):\n",
    "            out.append(test_x)\n",
    "\n",
    "    return out\n",
    "\n",
    "def gaussian(mean, sigma):\n",
    "    def f(x):\n",
    "        return math.exp(-((x - mean) ** 2) / (2 * sigma ** 2)) / (math.sqrt(2 * math.pi) * sigma)\n",
    "    return f\n",
    "\n",
    "def in_range(mymin, mymax):\n",
    "    def testrange(x):\n",
    "        return mymin <= x < mymax\n",
    "    return testrange\n",
    "\n",
    "def where(mylist, myfunc):\n",
    "    out = []\n",
    "    for index, value in enumerate(mylist):\n",
    "        if myfunc(value):\n",
    "            out.append(index)\n",
    "    return out\n",
    "\n",
    "def integrate(func, x_min, x_max, n_points=1000):\n",
    "    generated_data = generate_function(func, x_min, x_max, N=n_points)\n",
    "\n",
    "    range_func = in_range(-1, 1)\n",
    "\n",
    "    in_range_points = where(generated_data, range_func)\n",
    "\n",
    "    proportion = len(in_range_points) / len(generated_data)\n",
    "\n",
    "    return proportion\n",
    "\n",
    "g1 = gaussian(0, 1) \n",
    "\n",
    "proportion_within_one_std = integrate(g1, -5, 5, n_points=1000)\n",
    "\n",
    "print(f\"Proportion within one standard deviation: {proportion_within_one_std:.4f}\")\n"
   ]
  }
 ],
 "metadata": {
  "kernelspec": {
   "display_name": "Python 3 (ipykernel)",
   "language": "python",
   "name": "python3"
  },
  "language_info": {
   "codemirror_mode": {
    "name": "ipython",
    "version": 3
   },
   "file_extension": ".py",
   "mimetype": "text/x-python",
   "name": "python",
   "nbconvert_exporter": "python",
   "pygments_lexer": "ipython3",
   "version": "3.12.3"
  }
 },
 "nbformat": 4,
 "nbformat_minor": 2
}
