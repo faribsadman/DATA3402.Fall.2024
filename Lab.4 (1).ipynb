{
 "cells": [
  {
   "cell_type": "markdown",
   "metadata": {},
   "source": [
    "# Lab 4- Object Oriented Programming\n",
    "\n",
    "For all of the exercises below, make sure you provide tests of your solutions.\n"
   ]
  },
  {
   "cell_type": "markdown",
   "metadata": {},
   "source": [
    "1. Write a \"counter\" class that can be incremented up to a specified maximum value, will print an error if an attempt is made to increment beyond that value, and allows reseting the counter. "
   ]
  },
  {
   "cell_type": "code",
   "execution_count": 2,
   "metadata": {},
   "outputs": [
    {
     "name": "stdout",
     "output_type": "stream",
     "text": [
      "Counter: 2/5\n"
     ]
    }
   ],
   "source": [
    "class Counter:\n",
    "    def __init__(self, max_value):\n",
    "        self.value = 0\n",
    "        self.max_value = max_value\n",
    "\n",
    "    def increment(self):\n",
    "        if self.value < self.max_value:\n",
    "            self.value += 1\n",
    "        else:\n",
    "            print(\"Error: Maximum value reached\")\n",
    "\n",
    "    def reset(self):\n",
    "        self.value = 0\n",
    "\n",
    "    def __str__(self):\n",
    "        return f\"Counter: {self.value}/{self.max_value}\"\n",
    "\n",
    "\n",
    "counter = Counter(5)\n",
    "counter.increment()  \n",
    "counter.increment()  \n",
    "print(counter) \n",
    "counter.reset()  \n"
   ]
  },
  {
   "cell_type": "markdown",
   "metadata": {},
   "source": [
    "2. Copy and paste your solution to question 1 and modify it so that all the data held by the counter is private. Implement functions to check the value of the counter, check the maximum value, and check if the counter is at the maximum."
   ]
  },
  {
   "cell_type": "code",
   "execution_count": 3,
   "metadata": {},
   "outputs": [
    {
     "name": "stdout",
     "output_type": "stream",
     "text": [
      "1\n",
      "False\n"
     ]
    }
   ],
   "source": [
    "class Counter:\n",
    "    def __init__(self, max_value):\n",
    "        self.__value = 0\n",
    "        self.__max_value = max_value\n",
    "\n",
    "    def increment(self):\n",
    "        if self.__value < self.__max_value:\n",
    "            self.__value += 1\n",
    "        else:\n",
    "            print(\"Error: Maximum value reached\")\n",
    "\n",
    "    def reset(self):\n",
    "        self.__value = 0\n",
    "\n",
    "    def get_value(self):\n",
    "        return self.__value\n",
    "\n",
    "    def is_max(self):\n",
    "        return self.__value == self.__max_value\n",
    "\n",
    "    def get_max_value(self):\n",
    "        return self.__max_value\n",
    "\n",
    "    def __str__(self):\n",
    "        return f\"Counter: {self.__value}/{self.__max_value}\"\n",
    "\n",
    "\n",
    "counter = Counter(5)\n",
    "counter.increment()  \n",
    "print(counter.get_value())  \n",
    "print(counter.is_max())  \n"
   ]
  },
  {
   "cell_type": "markdown",
   "metadata": {},
   "source": [
    "3. Implement a class to represent a rectangle, holding the length, width, and $x$ and $y$ coordinates of a corner of the object. Implement functions that compute the area and perimeter of the rectangle. Make all data members private and privide accessors to retrieve values of data members. "
   ]
  },
  {
   "cell_type": "code",
   "execution_count": 4,
   "metadata": {},
   "outputs": [
    {
     "name": "stdout",
     "output_type": "stream",
     "text": [
      "50\n",
      "30\n"
     ]
    }
   ],
   "source": [
    "class Rectangle:\n",
    "    def __init__(self, length, width, x, y):\n",
    "        self.__length = length\n",
    "        self.__width = width\n",
    "        self.__x = x\n",
    "        self.__y = y\n",
    "\n",
    "    def area(self):\n",
    "        return self.__length * self.__width\n",
    "\n",
    "    def perimeter(self):\n",
    "        return 2 * (self.__length + self.__width)\n",
    "\n",
    "    def get_length(self):\n",
    "        return self.__length\n",
    "\n",
    "    def get_width(self):\n",
    "        return self.__width\n",
    "\n",
    "    def get_coordinates(self):\n",
    "        return (self.__x, self.__y)\n",
    "\n",
    "\n",
    "rectangle = Rectangle(10, 5, 0, 0)\n",
    "print(rectangle.area())  \n",
    "print(rectangle.perimeter()) \n"
   ]
  },
  {
   "cell_type": "markdown",
   "metadata": {},
   "source": [
    "4. Implement a class to represent a circle, holding the radius and $x$ and $y$ coordinates of center of the object. Implement functions that compute the area and perimeter of the rectangle. Make all data members private and privide accessors to retrieve values of data members. "
   ]
  },
  {
   "cell_type": "code",
   "execution_count": 5,
   "metadata": {},
   "outputs": [
    {
     "name": "stdout",
     "output_type": "stream",
     "text": [
      "153.93804002589985\n",
      "43.982297150257104\n"
     ]
    }
   ],
   "source": [
    "import math\n",
    "\n",
    "class Circle:\n",
    "    def __init__(self, radius, x, y):\n",
    "        self.__radius = radius\n",
    "        self.__x = x\n",
    "        self.__y = y\n",
    "\n",
    "    def area(self):\n",
    "        return math.pi * self.__radius ** 2\n",
    "\n",
    "    def perimeter(self):\n",
    "        return 2 * math.pi * self.__radius\n",
    "\n",
    "    def get_radius(self):\n",
    "        return self.__radius\n",
    "\n",
    "    def get_coordinates(self):\n",
    "        return (self.__x, self.__y)\n",
    "\n",
    "\n",
    "circle = Circle(7, 1, 1)\n",
    "print(circle.area()) \n",
    "print(circle.perimeter())  \n"
   ]
  },
  {
   "cell_type": "markdown",
   "metadata": {},
   "source": [
    "5. Implement a common base class for the classes implemented in 3 and 4 above which implements all common methods as not implemented functions (virtual). Re-implement your regtangle and circule classes to inherit from the base class and overload the functions accordingly. "
   ]
  },
  {
   "cell_type": "code",
   "execution_count": 6,
   "metadata": {},
   "outputs": [
    {
     "name": "stdout",
     "output_type": "stream",
     "text": [
      "Rectangle area: 50\n",
      "Rectangle perimeter: 30\n",
      "Circle area: 153.93791\n",
      "Circle perimeter: 43.98226\n"
     ]
    }
   ],
   "source": [
    "class Shape:\n",
    "    def area(self):\n",
    "        raise NotImplementedError(\"Subclasses must implement this method\")\n",
    "\n",
    "    def perimeter(self):\n",
    "        raise NotImplementedError(\"Subclasses must implement this method\")\n",
    "\n",
    "\n",
    "class Rectangle(Shape):\n",
    "    def __init__(self, length, width):\n",
    "        self.length = length\n",
    "        self.width = width\n",
    "\n",
    "    def area(self):\n",
    "        return self.length * self.width\n",
    "\n",
    "    def perimeter(self):\n",
    "        return 2 * (self.length + self.width)\n",
    "\n",
    "\n",
    "class Circle(Shape):\n",
    "    def __init__(self, radius):\n",
    "        self.radius = radius\n",
    "\n",
    "    def area(self):\n",
    "        return 3.14159 * self.radius ** 2  # Pi * r^2\n",
    "\n",
    "    def perimeter(self):\n",
    "        return 2 * 3.14159 * self.radius  # 2 * Pi * r\n",
    "\n",
    "\n",
    "rect = Rectangle(10, 5)\n",
    "circ = Circle(7)\n",
    "\n",
    "print(f\"Rectangle area: {rect.area()}\")  \n",
    "print(f\"Rectangle perimeter: {rect.perimeter()}\")  \n",
    "\n",
    "print(f\"Circle area: {circ.area()}\")  \n",
    "print(f\"Circle perimeter: {circ.perimeter()}\")  \n"
   ]
  },
  {
   "cell_type": "markdown",
   "metadata": {},
   "source": [
    "6. Implement a triangle class analogous to the rectangle and circle in question 5."
   ]
  },
  {
   "cell_type": "code",
   "execution_count": 7,
   "metadata": {},
   "outputs": [
    {
     "name": "stdout",
     "output_type": "stream",
     "text": [
      "6.0\n",
      "12\n"
     ]
    }
   ],
   "source": [
    "import math\n",
    "\n",
    "class Triangle(Shape):\n",
    "    def __init__(self, side_a, side_b, side_c, x, y):\n",
    "        self.__side_a = side_a\n",
    "        self.__side_b = side_b\n",
    "        self.__side_c = side_c\n",
    "        self.__x = x\n",
    "        self.__y = y\n",
    "\n",
    "    def area(self):\n",
    "        s = (self.__side_a + self.__side_b + self.__side_c) / 2\n",
    "        return math.sqrt(s * (s - self.__side_a) * (s - self.__side_b) * (s - self.__side_c))\n",
    "\n",
    "    def perimeter(self):\n",
    "        return self.__side_a + self.__side_b + self.__side_c\n",
    "\n",
    "    def get_sides(self):\n",
    "        return (self.__side_a, self.__side_b, self.__side_c)\n",
    "\n",
    "    def get_coordinates(self):\n",
    "        return (self.__x, self.__y)\n",
    "\n",
    "\n",
    "triangle = Triangle(3, 4, 5, 0, 0)\n",
    "print(triangle.area())  # Output: 6.0\n",
    "print(triangle.perimeter())  # Output: 12\n"
   ]
  },
  {
   "cell_type": "markdown",
   "metadata": {},
   "source": [
    "7. Add a function to the object classes, including the base, that returns a list of up to 16 pairs of  $x$ and $y$ points on the parameter of the object. "
   ]
  },
  {
   "cell_type": "code",
   "execution_count": 9,
   "metadata": {},
   "outputs": [
    {
     "name": "stdout",
     "output_type": "stream",
     "text": [
      "Rectangle perimeter points: [(0.0, 0), (3.3333333333333335, 0), (6.666666666666667, 0), (10.0, 0), (10, 0.0), (10, 1.6666666666666667), (10, 3.3333333333333335), (10, 5.0), (10.0, 5), (6.666666666666667, 5), (3.3333333333333335, 5), (0.0, 5), (0, 5.0), (0, 3.3333333333333335), (0, 1.6666666666666667), (0, 0.0)]\n",
      "Circle perimeter points: [(7.0, 0.0), (6.467156727579007, 2.6787840265556286), (4.949747468305833, 4.949747468305832), (2.678784026555629, 6.467156727579007), (4.286263797015736e-16, 7.0), (-2.678784026555628, 6.467156727579007), (-4.949747468305832, 4.949747468305833), (-6.467156727579007, 2.678784026555629), (-7.0, 8.572527594031472e-16), (-6.467156727579008, -2.6787840265556278), (-4.949747468305834, -4.949747468305832), (-2.6787840265556264, -6.467156727579008), (-1.2858791391047208e-15, -7.0), (2.67878402655563, -6.467156727579006), (4.949747468305832, -4.949747468305834), (6.467156727579008, -2.678784026555627)]\n"
     ]
    }
   ],
   "source": [
    "import math\n",
    "\n",
    "class Shape:\n",
    "    def perimeter_points(self):\n",
    "        raise NotImplementedError(\"Subclasses must implement this method\")\n",
    "class Rectangle(Shape):\n",
    "    def __init__(self, length, width, x, y):\n",
    "        self.length = length\n",
    "        self.width = width\n",
    "        self.x = x  \n",
    "        self.y = y  \n",
    "\n",
    "    def perimeter_points(self):\n",
    "        points = []\n",
    "        \n",
    "        for i in range(4):\n",
    "            points.append((self.x + i * self.length / 3, self.y))  \n",
    "        \n",
    "        for i in range(4):\n",
    "            points.append((self.x + self.length, self.y + i * self.width / 3)) \n",
    "        \n",
    "        for i in range(4):\n",
    "            points.append((self.x + (3 - i) * self.length / 3, self.y + self.width)) \n",
    "\n",
    "        for i in range(4):\n",
    "            points.append((self.x, self.y + (3 - i) * self.width / 3))  \n",
    "        \n",
    "        return points\n",
    "    \n",
    "class Circle(Shape):\n",
    "    def __init__(self, radius, x, y):\n",
    "        self.radius = radius\n",
    "        self.x = x  \n",
    "        self.y = y \n",
    "\n",
    "    def perimeter_points(self):\n",
    "        points = []\n",
    "        for i in range(16):\n",
    "            angle = math.radians(i * 22.5) \n",
    "            point_x = self.x + self.radius * math.cos(angle)\n",
    "            point_y = self.y + self.radius * math.sin(angle)\n",
    "            points.append((point_x, point_y))\n",
    "        return points\n",
    "rect = Rectangle(10, 5, 0, 0)\n",
    "circ = Circle(7, 0, 0)\n",
    "\n",
    "print(\"Rectangle perimeter points:\", rect.perimeter_points())\n",
    "\n",
    "\n",
    "print(\"Circle perimeter points:\", circ.perimeter_points())\n"
   ]
  },
  {
   "cell_type": "markdown",
   "metadata": {},
   "source": [
    "8. Add a function to the object classes, including the base, that tests if a given set of $x$ and $y$ coordinates are inside of the object. You'll have to think through how to determine if a set of coordinates are inside an object for each object type."
   ]
  },
  {
   "cell_type": "code",
   "execution_count": 13,
   "metadata": {},
   "outputs": [
    {
     "name": "stdout",
     "output_type": "stream",
     "text": [
      "Rectangle (5,2): True\n",
      "Rectangle (12,3): False\n",
      "Circle (3,4): True\n",
      "Circle (8,8): False\n",
      "Triangle (2.5, 2): True\n",
      "Triangle (6, 6): False\n"
     ]
    }
   ],
   "source": [
    "class Shape:\n",
    "    def is_inside(self, x, y):\n",
    "        raise NotImplementedError(\"This method should be overridden in the subclasses\")\n",
    "\n",
    "class Rectangle(Shape):\n",
    "    def __init__(self, length, width, x, y):\n",
    "        self.length = length\n",
    "        self.width = width\n",
    "        self.x = x \n",
    "        self.y = y  \n",
    "\n",
    "    def is_inside(self, point_x, point_y):\n",
    "        return self.x <= point_x <= self.x + self.length and self.y <= point_y <= self.y + self.width\n",
    "\n",
    "    \n",
    "class Circle(Shape):\n",
    "    def __init__(self, radius, x, y):\n",
    "        self.radius = radius\n",
    "        self.x = x  \n",
    "        self.y = y  \n",
    "\n",
    "    def is_inside(self, point_x, point_y):\n",
    "        distance = ((point_x - self.x) ** 2 + (point_y - self.y) ** 2) ** 0.5\n",
    "        return distance <= self.radius\n",
    "\n",
    "    \n",
    "class Triangle(Shape):\n",
    "    def __init__(self, x1, y1, x2, y2, x3, y3):\n",
    "        self.x1, self.y1 = x1, y1\n",
    "        self.x2, self.y2 = x2, y2\n",
    "        self.x3, self.y3 = x3, y3\n",
    "\n",
    "    def area(self, x1, y1, x2, y2, x3, y3):\n",
    "        return abs((x1 * (y2 - y3) + x2 * (y3 - y1) + x3 * (y1 - y2)) / 2.0)\n",
    "\n",
    "    def is_inside(self, point_x, point_y):\n",
    "        main_area = self.area(self.x1, self.y1, self.x2, self.y2, self.x3, self.y3)\n",
    "        \n",
    "        \n",
    "        area1 = self.area(point_x, point_y, self.x2, self.y2, self.x3, self.y3)\n",
    "        area2 = self.area(self.x1, self.y1, point_x, point_y, self.x3, self.y3)\n",
    "        area3 = self.area(self.x1, self.y1, self.x2, self.y2, point_x, point_y)\n",
    "        \n",
    "        return main_area == area1 + area2 + area3\n",
    "    \n",
    "rect = Rectangle(10, 5, 0, 0)  \n",
    "circ = Circle(7, 0, 0) \n",
    "tri = Triangle(0, 0, 5, 0, 2.5, 5)\n",
    "\n",
    "print(\"Rectangle (5,2):\", rect.is_inside(5, 2))  \n",
    "print(\"Rectangle (12,3):\", rect.is_inside(12, 3))  \n",
    "\n",
    "print(\"Circle (3,4):\", circ.is_inside(3, 4))  \n",
    "print(\"Circle (8,8):\", circ.is_inside(8, 8))  \n",
    "\n",
    "# Test points inside and outside the triangle\n",
    "print(\"Triangle (2.5, 2):\", tri.is_inside(2.5, 2))  \n",
    "print(\"Triangle (6, 6):\", tri.is_inside(6, 6))\n"
   ]
  },
  {
   "cell_type": "markdown",
   "metadata": {},
   "source": [
    "9. Add a function in the base class of the object classes that returns true/false testing that the object overlaps with another object."
   ]
  },
  {
   "cell_type": "code",
   "execution_count": 16,
   "metadata": {},
   "outputs": [
    {
     "name": "stdout",
     "output_type": "stream",
     "text": [
      "Rectangle 1 overlaps Rectangle 2: True\n",
      "Rectangle 1 overlaps Rectangle 3: False\n",
      "Circle 1 overlaps Circle 2: True\n",
      "Circle 1 overlaps Circle 3: False\n"
     ]
    }
   ],
   "source": [
    "class Shape:\n",
    "    def overlaps(self, other):\n",
    "        raise NotImplementedError(\"Subclasses must implement this method\")\n",
    "        \n",
    "class Rectangle(Shape):\n",
    "    def __init__(self, length, width, x, y):\n",
    "        self.length = length\n",
    "        self.width = width\n",
    "        self.x = x  \n",
    "        self.y = y  \n",
    "\n",
    "    def is_inside(self, point_x, point_y):\n",
    "        return self.x <= point_x <= self.x + self.length and self.y <= point_y <= self.y + self.width\n",
    "\n",
    "    def overlaps(self, other):\n",
    "        if isinstance(other, Rectangle):\n",
    "            return not (self.x + self.length < other.x or\n",
    "                        other.x + other.length < self.x or\n",
    "                        self.y + self.width < other.y or\n",
    "                        other.y + other.width < self.y)\n",
    "        return False\n",
    "\n",
    "class Circle(Shape):\n",
    "    def __init__(self, radius, x, y):\n",
    "        self.radius = radius\n",
    "        self.x = x \n",
    "        self.y = y  \n",
    "        \n",
    "    def is_inside(self, point_x, point_y):\n",
    "        distance = ((point_x - self.x) ** 2 + (point_y - self.y) ** 2) ** 0.5\n",
    "        return distance <= self.radius\n",
    "\n",
    "    def overlaps(self, other):\n",
    "        if isinstance(other, Circle):\n",
    "            distance_between_centers = ((self.x - other.x) ** 2 + (self.y - other.y) ** 2) ** 0.5\n",
    "            return distance_between_centers <= (self.radius + other.radius)\n",
    "        return False\n",
    "\n",
    "rect1 = Rectangle(10, 5, 0, 0) \n",
    "rect2 = Rectangle(5, 5, 5, 2)   \n",
    "rect3 = Rectangle(10, 5, 15, 15) \n",
    "\n",
    "print(\"Rectangle 1 overlaps Rectangle 2:\", rect1.overlaps(rect2))  \n",
    "print(\"Rectangle 1 overlaps Rectangle 3:\", rect1.overlaps(rect3))\n",
    "\n",
    "circle1 = Circle(5, 0, 0)  \n",
    "circle2 = Circle(3, 3, 3) \n",
    "circle3 = Circle(2, 10, 10)  \n",
    "\n",
    "print(\"Circle 1 overlaps Circle 2:\", circle1.overlaps(circle2))  \n",
    "print(\"Circle 1 overlaps Circle 3:\", circle1.overlaps(circle3)) \n"
   ]
  },
  {
   "cell_type": "markdown",
   "metadata": {},
   "source": [
    "10. Copy the `Canvas` class from lecture to in a python file creating a `paint` module. Copy your classes from above into the module and implement paint functions. Implement a `CompoundShape` class. Create a simple drawing demonstrating that all of your classes are working."
   ]
  },
  {
   "cell_type": "code",
   "execution_count": 19,
   "metadata": {},
   "outputs": [
    {
     "name": "stdout",
     "output_type": "stream",
     "text": [
      "                    \n",
      "                    \n",
      "  **********        \n",
      "  *        *        \n",
      "  *        *        \n",
      "  *        *        \n",
      "  **********        \n",
      "                    \n",
      "                    \n",
      "                    \n",
      "                    \n",
      "                    \n",
      "               *    \n",
      "             *****  \n",
      "             *****  \n",
      "            ******  \n",
      "             *****  \n",
      "             *****  \n",
      "                    \n",
      "                    \n"
     ]
    }
   ],
   "source": [
    "class Canvas:\n",
    "    def __init__(self, width, height):\n",
    "        self.width = width\n",
    "        self.height = height\n",
    "        # Empty canvas is a matrix with element being the \"space\" character\n",
    "        self.data = [[' '] * width for i in range(height)]\n",
    "\n",
    "    def set_pixel(self, row, col, char='*'):\n",
    "        self.data[row][col] = char\n",
    "\n",
    "    def get_pixel(self, row, col):\n",
    "        return self.data[row][col]\n",
    "    \n",
    "    def clear_canvas(self):\n",
    "        self.data = [[' '] * self.width for i in range(self.height)]\n",
    "    \n",
    "    def v_line(self, x, y, w, **kargs):\n",
    "        for i in range(x,x+w):\n",
    "            self.set_pixel(i,y, **kargs)\n",
    "\n",
    "    def h_line(self, x, y, h, **kargs):\n",
    "        for i in range(y,y+h):\n",
    "            self.set_pixel(x,i, **kargs)\n",
    "            \n",
    "    def line(self, x1, y1, x2, y2, **kargs):\n",
    "        slope = (y2-y1) / (x2-x1)\n",
    "        for y in range(y1,y2):\n",
    "            x= int(slope * y)\n",
    "            self.set_pixel(x,y, **kargs)\n",
    "            \n",
    "    def display(self):\n",
    "        print(\"\\n\".join([\"\".join(row) for row in self.data]))\n",
    "\n",
    "\n",
    "class CompoundShape:\n",
    "    def __init__(self, canvas):\n",
    "        self.shapes = []  \n",
    "        self.canvas = canvas\n",
    "\n",
    "    def add_shape(self, shape):\n",
    "        self.shapes.append(shape)\n",
    "\n",
    "    def paint(self):\n",
    "        for shape in self.shapes:\n",
    "            shape.draw(self.canvas)\n",
    "\n",
    "class Rectangle(Shape):\n",
    "    def __init__(self, length, width, x, y):\n",
    "        self.length = length\n",
    "        self.width = width\n",
    "        self.x = x\n",
    "        self.y = y\n",
    "\n",
    "    def draw(self, canvas):\n",
    "      \n",
    "        canvas.h_line(self.y, self.x, self.length)  \n",
    "        canvas.h_line(self.y + self.width - 1, self.x, self.length) \n",
    "        canvas.v_line(self.y, self.x, self.width)  \n",
    "        canvas.v_line(self.y, self.x + self.length - 1, self.width)  \n",
    "\n",
    "class Circle(Shape):\n",
    "    def __init__(self, radius, x, y):\n",
    "        self.radius = radius\n",
    "        self.x = x\n",
    "        self.y = y\n",
    "\n",
    "    def draw(self, canvas):\n",
    "        diameter = 2 * self.radius\n",
    "        for i in range(self.y - self.radius, self.y + self.radius):\n",
    "            for j in range(self.x - self.radius, self.x + self.radius):\n",
    "                if (i - self.y) ** 2 + (j - self.x) ** 2 <= self.radius ** 2:\n",
    "                    canvas.set_pixel(i, j)\n",
    "\n",
    "\n",
    "canvas = Canvas(20, 20)\n",
    "compound = CompoundShape(canvas)\n",
    "\n",
    "compound.add_shape(Rectangle(10, 5, 2, 2)) \n",
    "compound.add_shape(Circle(3, 15, 15))\n",
    "\n",
    "compound.paint()\n",
    "\n",
    "canvas.display()\n"
   ]
  },
  {
   "cell_type": "markdown",
   "metadata": {},
   "source": [
    "11. Create a `RasterDrawing` class. Demonstrate that you can create a drawing made of several shapes, paint the drawing, modify the drawing, and paint it again. "
   ]
  },
  {
   "cell_type": "code",
   "execution_count": 22,
   "metadata": {},
   "outputs": [
    {
     "name": "stdout",
     "output_type": "stream",
     "text": [
      "                    \n",
      "                    \n",
      "  **********        \n",
      "  *        *        \n",
      "  *        *        \n",
      "  *        *        \n",
      "  **********        \n",
      "                    \n",
      "                    \n",
      "                    \n",
      "                    \n",
      "                    \n",
      "               *    \n",
      "             *****  \n",
      "             *****  \n",
      "            ******  \n",
      "             *****  \n",
      "             *****  \n",
      "                    \n",
      "                    \n",
      "                    \n",
      "                    \n",
      "  **********        \n",
      "  *        *        \n",
      "  *        *        \n",
      "  *        *        \n",
      "  **********        \n",
      "                    \n",
      "                    \n",
      "                    \n",
      "            *       \n",
      "           ***      \n",
      "          ****      \n",
      "           ***      \n",
      "                    \n",
      "                    \n",
      "                    \n",
      "                    \n",
      "                    \n",
      "                    \n"
     ]
    }
   ],
   "source": [
    "class RasterDrawing:\n",
    "    def __init__(self, canvas):\n",
    "        self.canvas = canvas\n",
    "        self.shapes = []  # Store shapes to be drawn\n",
    "\n",
    "    def add_shape(self, shape):\n",
    "        \"\"\"Adds a shape to the drawing.\"\"\"\n",
    "        self.shapes.append(shape)\n",
    "\n",
    "    def draw(self):\n",
    "        \"\"\"Clears the canvas and redraws all shapes.\"\"\"\n",
    "        self.canvas.clear_canvas()\n",
    "        for shape in self.shapes:\n",
    "            shape.draw(self.canvas)\n",
    "        self.canvas.display()\n",
    "\n",
    "    def modify_shape(self, shape_index, new_shape):\n",
    "        \"\"\"Replaces a shape at a given index with a new shape.\"\"\"\n",
    "        if 0 <= shape_index < len(self.shapes):\n",
    "            self.shapes[shape_index] = new_shape\n",
    "\n",
    "# Reusing the Rectangle and Circle classes from Task 10\n",
    "class Rectangle(Shape):\n",
    "    def __init__(self, length, width, x, y):\n",
    "        self.length = length\n",
    "        self.width = width\n",
    "        self.x = x\n",
    "        self.y = y\n",
    "\n",
    "    def draw(self, canvas):\n",
    "        canvas.h_line(self.y, self.x, self.length)  # Top line\n",
    "        canvas.h_line(self.y + self.width - 1, self.x, self.length)  # Bottom line\n",
    "        canvas.v_line(self.y, self.x, self.width)  # Left line\n",
    "        canvas.v_line(self.y, self.x + self.length - 1, self.width)  # Right line\n",
    "\n",
    "class Circle(Shape):\n",
    "    def __init__(self, radius, x, y):\n",
    "        self.radius = radius\n",
    "        self.x = x\n",
    "        self.y = y\n",
    "\n",
    "    def draw(self, canvas):\n",
    "        diameter = 2 * self.radius\n",
    "        for i in range(self.y - self.radius, self.y + self.radius):\n",
    "            for j in range(self.x - self.radius, self.x + self.radius):\n",
    "                if (i - self.y) ** 2 + (j - self.x) ** 2 <= self.radius ** 2:\n",
    "                    canvas.set_pixel(i, j)\n",
    "\n",
    "canvas = Canvas(20, 20)  \n",
    "raster = RasterDrawing(canvas)\n",
    "\n",
    "raster.add_shape(Rectangle(10, 5, 2, 2)) \n",
    "raster.add_shape(Circle(3, 15, 15)) \n",
    "\n",
    "raster.draw()\n",
    "\n",
    "raster.modify_shape(1, Circle(2, 12, 12))  \n",
    "\n",
    "raster.draw()\n"
   ]
  },
  {
   "cell_type": "markdown",
   "metadata": {},
   "source": [
    "12. Implement the ability to load/save raster drawings and demonstate that your method works. One way to implement this ability:\n",
    "\n",
    "   * Overload `__repr__` functions of all objects to return strings of the python code that would construct the object.\n",
    "   \n",
    "   * In the save method of raster drawing class, store the representations into the file.\n",
    "   * Write a loader function that reads the file and uses `eval` to instantiate the object.\n",
    "\n",
    "For example:"
   ]
  },
  {
   "cell_type": "code",
   "execution_count": 1,
   "metadata": {},
   "outputs": [],
   "source": [
    "class foo:\n",
    "    def __init__(self,a,b=None):\n",
    "        self.a=a\n",
    "        self.b=b\n",
    "        \n",
    "    def __repr__(self):\n",
    "        return \"foo(\"+repr(self.a)+\",\"+repr(self.b)+\")\"\n",
    "    \n",
    "    def save(self,filename):\n",
    "        f=open(filename,\"w\")\n",
    "        f.write(self.__repr__())\n",
    "        f.close()\n",
    "        \n",
    "   \n",
    "def foo_loader(filename):\n",
    "    f=open(filename,\"r\")\n",
    "    tmp=eval(f.read())\n",
    "    f.close()\n",
    "    return tmp\n"
   ]
  },
  {
   "cell_type": "code",
   "execution_count": 2,
   "metadata": {},
   "outputs": [
    {
     "name": "stdout",
     "output_type": "stream",
     "text": [
      "foo(1,'hello')\n"
     ]
    }
   ],
   "source": [
    "# Test\n",
    "print(repr(foo(1,\"hello\")))"
   ]
  },
  {
   "cell_type": "code",
   "execution_count": 3,
   "metadata": {},
   "outputs": [],
   "source": [
    "# Create an object and save it\n",
    "ff=foo(1,\"hello\")\n",
    "ff.save(\"Test.foo\")"
   ]
  },
  {
   "cell_type": "code",
   "execution_count": 4,
   "metadata": {},
   "outputs": [
    {
     "name": "stdout",
     "output_type": "stream",
     "text": [
      "foo(1,'hello')"
     ]
    }
   ],
   "source": [
    "# Check contents of the saved file\n",
    "!cat Test.foo"
   ]
  },
  {
   "cell_type": "code",
   "execution_count": 5,
   "metadata": {},
   "outputs": [
    {
     "data": {
      "text/plain": [
       "foo(1,'hello')"
      ]
     },
     "execution_count": 5,
     "metadata": {},
     "output_type": "execute_result"
    }
   ],
   "source": [
    "# Load the object\n",
    "ff_reloaded=foo_loader(\"Test.foo\")\n",
    "ff_reloaded"
   ]
  },
  {
   "cell_type": "code",
   "execution_count": 23,
   "metadata": {},
   "outputs": [
    {
     "name": "stdout",
     "output_type": "stream",
     "text": [
      "                    \n",
      "                    \n",
      "  **********        \n",
      "  *        *        \n",
      "  *        *        \n",
      "  *        *        \n",
      "  **********        \n",
      "                    \n",
      "                    \n",
      "                    \n",
      "                    \n",
      "                    \n",
      "               *    \n",
      "             *****  \n",
      "             *****  \n",
      "            ******  \n",
      "             *****  \n",
      "             *****  \n",
      "                    \n",
      "                    \n",
      "                    \n",
      "                    \n",
      "  **********        \n",
      "  *        *        \n",
      "  *        *        \n",
      "  *        *        \n",
      "  **********        \n",
      "                    \n",
      "                    \n",
      "                    \n",
      "                    \n",
      "                    \n",
      "               *    \n",
      "             *****  \n",
      "             *****  \n",
      "            ******  \n",
      "             *****  \n",
      "             *****  \n",
      "                    \n",
      "                    \n"
     ]
    }
   ],
   "source": [
    "class Rectangle(Shape):\n",
    "    def __init__(self, length, width, x, y):\n",
    "        self.length = length\n",
    "        self.width = width\n",
    "        self.x = x\n",
    "        self.y = y\n",
    "\n",
    "    def draw(self, canvas):\n",
    "        canvas.h_line(self.y, self.x, self.length)\n",
    "        canvas.h_line(self.y + self.width - 1, self.x, self.length)\n",
    "        canvas.v_line(self.y, self.x, self.width)\n",
    "        canvas.v_line(self.y, self.x + self.length - 1, self.width)\n",
    "\n",
    "    def __repr__(self):\n",
    "        return f\"Rectangle({self.length}, {self.width}, {self.x}, {self.y})\"\n",
    "\n",
    "\n",
    "class Circle(Shape):\n",
    "    def __init__(self, radius, x, y):\n",
    "        self.radius = radius\n",
    "        self.x = x\n",
    "        self.y = y\n",
    "\n",
    "    def draw(self, canvas):\n",
    "        for i in range(self.y - self.radius, self.y + self.radius):\n",
    "            for j in range(self.x - self.radius, self.x + self.radius):\n",
    "                if (i - self.y) ** 2 + (j - self.x) ** 2 <= self.radius ** 2:\n",
    "                    canvas.set_pixel(i, j)\n",
    "\n",
    "    def __repr__(self):\n",
    "        return f\"Circle({self.radius}, {self.x}, {self.y})\"\n",
    "    \n",
    "class RasterDrawing:\n",
    "    def __init__(self, canvas):\n",
    "        self.canvas = canvas\n",
    "        self.shapes = []\n",
    "\n",
    "    def add_shape(self, shape):\n",
    "        \"\"\"Adds a shape to the drawing.\"\"\"\n",
    "        self.shapes.append(shape)\n",
    "\n",
    "    def draw(self):\n",
    "        \"\"\"Clears the canvas and redraws all shapes.\"\"\"\n",
    "        self.canvas.clear_canvas()\n",
    "        for shape in self.shapes:\n",
    "            shape.draw(self.canvas)\n",
    "        self.canvas.display()\n",
    "\n",
    "    def save(self, filename):\n",
    "        \"\"\"Save all shapes to a file.\"\"\"\n",
    "        with open(filename, \"w\") as f:\n",
    "            for shape in self.shapes:\n",
    "                f.write(repr(shape) + \"\\n\")\n",
    "\n",
    "    @staticmethod\n",
    "    def load(filename, canvas):\n",
    "        \"\"\"Load shapes from a file and return a RasterDrawing object.\"\"\"\n",
    "        drawing = RasterDrawing(canvas)\n",
    "        with open(filename, \"r\") as f:\n",
    "            for line in f:\n",
    "                drawing.add_shape(eval(line.strip()))  \n",
    "        return drawing\n",
    "    \n",
    "canvas = Canvas(20, 20)\n",
    "raster = RasterDrawing(canvas)\n",
    "\n",
    "raster.add_shape(Rectangle(10, 5, 2, 2))  \n",
    "raster.add_shape(Circle(3, 15, 15))  \n",
    "\n",
    "raster.draw()\n",
    "\n",
    "raster.save(\"drawing.txt\")\n",
    "\n",
    "loaded_raster = RasterDrawing.load(\"drawing.txt\", canvas)\n",
    "loaded_raster.draw()  \n"
   ]
  },
  {
   "cell_type": "code",
   "execution_count": null,
   "metadata": {},
   "outputs": [],
   "source": []
  }
 ],
 "metadata": {
  "kernelspec": {
   "display_name": "Python 3 (ipykernel)",
   "language": "python",
   "name": "python3"
  },
  "language_info": {
   "codemirror_mode": {
    "name": "ipython",
    "version": 3
   },
   "file_extension": ".py",
   "mimetype": "text/x-python",
   "name": "python",
   "nbconvert_exporter": "python",
   "pygments_lexer": "ipython3",
   "version": "3.12.3"
  }
 },
 "nbformat": 4,
 "nbformat_minor": 2
}
